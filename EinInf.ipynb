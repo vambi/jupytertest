{
 "cells": [
  {
   "cell_type": "markdown",
   "metadata": {
    "slideshow": {
     "slide_type": "slide"
    }
   },
   "source": [
    "# Einführung in die Informatik"
   ]
  },
  {
   "cell_type": "markdown",
   "metadata": {
    "slideshow": {
     "slide_type": "slide"
    }
   },
   "source": [
    "## 1. Ursprünge der Informatik"
   ]
  },
  {
   "cell_type": "markdown",
   "metadata": {
    "slideshow": {
     "slide_type": "subslide"
    }
   },
   "source": [
    "### 1.1 Definitionen"
   ]
  },
  {
   "cell_type": "markdown",
   "metadata": {
    "slideshow": {
     "slide_type": "subslide"
    }
   },
   "source": [
    "* Technik, Daten für die Praxis ohne Informationslücke zu produzieren (Mackensen, 1977, 1979)\n",
    "* Wissenschaft von der systematischen Darstellung, Speicherung, Verarbeitung und Übertragung von Informationen, besonders der automatischen Verarbeitung mit Hilfe von Digitalrechner   (Duden Informatik, 2006)"
   ]
  },
  {
   "cell_type": "markdown",
   "metadata": {
    "slideshow": {
     "slide_type": "slide"
    }
   },
   "source": [
    "## 1.2 Algorithmus von Euklid"
   ]
  },
  {
   "cell_type": "markdown",
   "metadata": {
    "slideshow": {
     "slide_type": "subslide"
    }
   },
   "source": [
    "Mit dem Euklidischen Algorithmus kann man den größten gemeinsamen Teiler (ggT) zweier Zahlen herausfinden\n",
    "\n",
    "Beispiel:\n",
    "* x = 80, y = 24\n",
    "\n",
    "* Schritt 1: 80 % 24 = 8\n",
    "* Schritt 2: 24 % 8 = 0\n",
    "* Ergebnis: ggT(80, 24) = 8"
   ]
  },
  {
   "cell_type": "code",
   "execution_count": 13,
   "metadata": {
    "slideshow": {
     "slide_type": "skip"
    }
   },
   "outputs": [
    {
     "data": {
      "application/javascript": [
       "\n",
       "function gcdEuclid (x, y) {\n",
       "    var z = 0;\n",
       "  while ( y !== 0 ) {\n",
       "      z = x % y;\n",
       "      x = y;\n",
       "      y = z;\n",
       "  }\n",
       "  return x;\n",
       "}\n",
       "alert(gcdEuclid(16,8));\n"
      ],
      "text/plain": [
       "<IPython.core.display.Javascript object>"
      ]
     },
     "metadata": {},
     "output_type": "display_data"
    }
   ],
   "source": [
    "%%javascript\n",
    "\n",
    "function gcdEuclid (x, y) {\n",
    "    var z = 0;\n",
    "  while ( y !== 0 ) {\n",
    "      z = x % y;\n",
    "      x = y;\n",
    "      y = z;\n",
    "  }\n",
    "  return x;\n",
    "}\n",
    "alert(gcdEuclid(16,8));\n"
   ]
  },
  {
   "cell_type": "code",
   "execution_count": 2,
   "metadata": {
    "slideshow": {
     "slide_type": "fragment"
    }
   },
   "outputs": [],
   "source": [
    "def gcdEuclid(x,y):\n",
    "    \n",
    "    while y != 0 :\n",
    "        z = x%y\n",
    "        x = y\n",
    "        y = z\n",
    "        \n",
    "    return x\n",
    "    \n",
    "\n"
   ]
  },
  {
   "cell_type": "code",
   "execution_count": 3,
   "metadata": {
    "slideshow": {
     "slide_type": "fragment"
    }
   },
   "outputs": [
    {
     "data": {
      "application/vnd.jupyter.widget-view+json": {
       "model_id": "d2813755ff1f42d5b6393365b8da9fb2",
       "version_major": 2,
       "version_minor": 0
      },
      "text/plain": [
       "interactive(children=(IntSlider(value=16, description='x', max=48, min=-16), IntSlider(value=8, description='y…"
      ]
     },
     "metadata": {},
     "output_type": "display_data"
    }
   ],
   "source": [
    "from ipywidgets import interact\n",
    "import ipywidgets as widgets\n",
    "import numpy as np\n",
    "\n",
    "interact(gcdEuclid,x=16,y=8);"
   ]
  },
  {
   "cell_type": "markdown",
   "metadata": {
    "slideshow": {
     "slide_type": "slide"
    }
   },
   "source": [
    "## 1.3 Mailüfterl"
   ]
  },
  {
   "cell_type": "code",
   "execution_count": 4,
   "metadata": {
    "slideshow": {
     "slide_type": "subslide"
    }
   },
   "outputs": [
    {
     "data": {
      "image/jpeg": "[encoded data removed]",
      "text/html": [
       "\n",
       "        <iframe\n",
       "            width=\"400\"\n",
       "            height=\"300\"\n",
       "            src=\"https://www.youtube.com/embed/lvaiEW-Sm4A\"\n",
       "            frameborder=\"0\"\n",
       "            allowfullscreen\n",
       "        ></iframe>\n",
       "        "
      ],
      "text/plain": [
       "<IPython.lib.display.YouTubeVideo at 0x5f6d4f0>"
      ]
     },
     "execution_count": 4,
     "metadata": {},
     "output_type": "execute_result"
    }
   ],
   "source": [
    "from IPython.display import YouTubeVideo\n",
    "YouTubeVideo('lvaiEW-Sm4A')"
   ]
  },
  {
   "cell_type": "markdown",
   "metadata": {
    "slideshow": {
     "slide_type": "slide"
    }
   },
   "source": [
    "## 1.4 Umrechnen von Zahlensystemen"
   ]
  },
  {
   "cell_type": "code",
   "execution_count": 5,
   "metadata": {
    "slideshow": {
     "slide_type": "fragment"
    }
   },
   "outputs": [
    {
     "data": {
      "application/vnd.jupyter.widget-view+json": {
       "model_id": "9fbb646c82764cfbb6ac79f293eb5bc1",
       "version_major": 2,
       "version_minor": 0
      },
      "text/plain": [
       "BoundedIntText(value=7, description='Decimal Number', max=15, min=-8, style=DescriptionStyle(description_width…"
      ]
     },
     "metadata": {},
     "output_type": "display_data"
    },
    {
     "data": {
      "application/vnd.jupyter.widget-view+json": {
       "model_id": "26911e693bdf49fbb0329c8980757814",
       "version_major": 2,
       "version_minor": 0
      },
      "text/plain": [
       "Text(value='0111', description='Binary Number', disabled=True, style=DescriptionStyle(description_width='150px…"
      ]
     },
     "metadata": {},
     "output_type": "display_data"
    },
    {
     "data": {
      "application/vnd.jupyter.widget-view+json": {
       "model_id": "183da2107fca4c0392998fc4e68f714c",
       "version_major": 2,
       "version_minor": 0
      },
      "text/plain": [
       "Text(value='0x7', description='Hexadecimal Number', disabled=True, style=DescriptionStyle(description_width='1…"
      ]
     },
     "metadata": {},
     "output_type": "display_data"
    },
    {
     "data": {
      "application/vnd.jupyter.widget-view+json": {
       "model_id": "fd92d7b5b5254899872d7a621c1fc445",
       "version_major": 2,
       "version_minor": 0
      },
      "text/plain": [
       "Text(value='0o7', description='Octal Number', disabled=True, style=DescriptionStyle(description_width='150px')…"
      ]
     },
     "metadata": {},
     "output_type": "display_data"
    }
   ],
   "source": [
    "def convert_to_binary(n):\n",
    "    if n >=0:\n",
    "        if n <=7:\n",
    "            return np.binary_repr(n, width=4)\n",
    "        else:\n",
    "            return np.binary_repr(n, width=5)\n",
    "    else:\n",
    "        return np.binary_repr(n, width=4)\n",
    "\n",
    "def on_value_change(change):\n",
    "    binary.value= convert_to_binary(deci.value)\n",
    "    hexadecimal.value= hex(deci.value)\n",
    "    octal.value= oct(deci.value)\n",
    "\n",
    "style = {'description_width': '150px'}\n",
    "deci= widgets.BoundedIntText(value=7,min=-8,max=15, step=1, description=\"Decimal Number\", disabled=False, style=style)\n",
    "binary = widgets.Text(value=convert_to_binary(deci.value), description=\"Binary Number\", disabled=True, style=style)\n",
    "hexadecimal = widgets.Text(value=hex(deci.value), description=\"Hexadecimal Number\", disabled=True, style=style)\n",
    "octal = widgets.Text(value=oct(deci.value), description=\"Octal Number\", disabled=True, style=style)\n",
    "\n",
    "deci.observe(on_value_change, names='value')\n",
    "display(deci)\n",
    "display(binary)\n",
    "display(hexadecimal)\n",
    "display(octal)"
   ]
  },
  {
   "cell_type": "markdown",
   "metadata": {
    "slideshow": {
     "slide_type": "slide"
    }
   },
   "source": [
    "## 1.5 Simple Program"
   ]
  },
  {
   "cell_type": "code",
   "execution_count": 18,
   "metadata": {
    "slideshow": {
     "slide_type": "fragment"
    }
   },
   "outputs": [
    {
     "name": "stdout",
     "output_type": "stream",
     "text": [
      "1\n",
      "2\n",
      "3\n",
      "4\n",
      "5\n",
      "6\n",
      "7\n",
      "8\n",
      "9\n"
     ]
    }
   ],
   "source": [
    "i = 1\n",
    "while i<10:\n",
    "    print(i)\n",
    "    i = i+1;\n",
    "    "
   ]
  },
  {
   "cell_type": "markdown",
   "metadata": {
    "slideshow": {
     "slide_type": "slide"
    }
   },
   "source": [
    "## 1.6 HTML"
   ]
  },
  {
   "cell_type": "code",
   "execution_count": 19,
   "metadata": {
    "slideshow": {
     "slide_type": "subslide"
    }
   },
   "outputs": [
    {
     "data": {
      "text/html": [
       "<head>\n",
       "    <title>A HTML5 Document</title>\n",
       "  </head>\n",
       "  <body>\n",
       "    <p>This is a sample <a href=\"...\">HTML 5</a> document.</p>\n",
       "    <form action=\"process.jsp\" method=\"post\">\n",
       "      <p>\n",
       "        <label for=\"userName\">Your name:</label>\n",
       "        <input type=\"text\" id=\"userName\" name=\"userName\" />\n",
       "      </p>\n",
       "      <p><input type=\"submit\" value=\"Submit the form\" name=\"action\" /></p>\n",
       "    </form>\n",
       "  </body>\n"
      ],
      "text/plain": [
       "<IPython.core.display.HTML object>"
      ]
     },
     "metadata": {},
     "output_type": "display_data"
    }
   ],
   "source": [
    "from IPython.display import HTML\n",
    "\n",
    "site = \"\"\"<head>\n",
    "    <title>A HTML5 Document</title>\n",
    "  </head>\n",
    "  <body>\n",
    "    <p>This is a sample <a href=\"...\">HTML 5</a> document.</p>\n",
    "    <form action=\"process.jsp\" method=\"post\">\n",
    "      <p>\n",
    "        <label for=\"userName\">Your name:</label>\n",
    "        <input type=\"text\" id=\"userName\" name=\"userName\" />\n",
    "      </p>\n",
    "      <p><input type=\"submit\" value=\"Submit the form\" name=\"action\" /></p>\n",
    "    </form>\n",
    "  </body>\n",
    "\"\"\"\n",
    "h = HTML(site)\n",
    "display(h)"
   ]
  },
  {
   "cell_type": "markdown",
   "metadata": {},
   "source": [
    "## 2 Kodierungen"
   ]
  },
  {
   "cell_type": "markdown",
   "metadata": {},
   "source": [
    "## 2.1 Huffman-Kodierung"
   ]
  },
  {
   "cell_type": "code",
   "execution_count": 20,
   "metadata": {},
   "outputs": [
    {
     "data": {
      "image/jpeg": "[encoded data removed]",
      "text/html": [
       "\n",
       "        <iframe\n",
       "            width=\"400\"\n",
       "            height=\"300\"\n",
       "            src=\"https://www.youtube.com/embed/JsTptu56GM8\"\n",
       "            frameborder=\"0\"\n",
       "            allowfullscreen\n",
       "        ></iframe>\n",
       "        "
      ],
      "text/plain": [
       "<IPython.lib.display.YouTubeVideo at 0xc73fd00>"
      ]
     },
     "execution_count": 20,
     "metadata": {},
     "output_type": "execute_result"
    }
   ],
   "source": [
    "from IPython.display import YouTubeVideo\n",
    "YouTubeVideo('JsTptu56GM8')"
   ]
  },
  {
   "cell_type": "code",
   "execution_count": 21,
   "metadata": {},
   "outputs": [],
   "source": [
    "from queue import PriorityQueue\n",
    "from graphviz import Digraph\n",
    "# Dies ist der Ausgangszustand\n",
    "codec = {'Mo': 2, 'Di' : 5, 'Mi': 10 , 'Do': 15, 'Fr': 40, 'Sa': 20, 'So':8 }\n",
    "#Dieses Objekt repräsentiert die einfachste variante eines Baumes\n",
    "class Node(object):\n",
    "    def __init__(self):\n",
    "        self.left = None\n",
    "        self.right = None\n",
    "        self.char = \"\"\n",
    "        self.frequency = 0\n",
    "    def _is_valid_operand(self, other):\n",
    "        return (hasattr(other, \"char\") and\n",
    "                hasattr(other, \"frequency\"))\n",
    "    def __eq__(self, other):\n",
    "        if not self._is_valid_operand(other):\n",
    "            return NotImplemented\n",
    "        return self.frequency == other.frequency\n",
    "    def __lt__(self, other):\n",
    "        if not self._is_valid_operand(other):\n",
    "            return NotImplemented\n",
    "        return self.frequency < other.frequency\n",
    "    "
   ]
  },
  {
   "cell_type": "code",
   "execution_count": 22,
   "metadata": {},
   "outputs": [],
   "source": [
    "# Nun wird für jedes Element ein Baum angelegt\n",
    "q = PriorityQueue()\n",
    "for key, value in codec.items():\n",
    "    node = Node()\n",
    "    node.char = key\n",
    "    node.frequency = value\n",
    "    q.put((value, node))"
   ]
  },
  {
   "cell_type": "code",
   "execution_count": 23,
   "metadata": {},
   "outputs": [],
   "source": [
    "while q.qsize() > 1:\n",
    "    newNode = Node()\n",
    "    if (q.qsize() <= 1):\n",
    "        break\n",
    "    _, x = q.get()\n",
    "    _, y = q.get()\n",
    "    newNode.left = x\n",
    "    newNode.right = y\n",
    "    newNode.frequency = x.frequency + y.frequency\n",
    "    q.put((newNode.frequency, newNode))"
   ]
  },
  {
   "cell_type": "code",
   "execution_count": 24,
   "metadata": {},
   "outputs": [
    {
     "data": {
      "text/plain": [
       "'Fr: 1'"
      ]
     },
     "metadata": {},
     "output_type": "display_data"
    },
    {
     "data": {
      "text/plain": [
       "'Mi: 011'"
      ]
     },
     "metadata": {},
     "output_type": "display_data"
    },
    {
     "data": {
      "text/plain": [
       "'Do: 010'"
      ]
     },
     "metadata": {},
     "output_type": "display_data"
    },
    {
     "data": {
      "text/plain": [
       "'Mo: 00111'"
      ]
     },
     "metadata": {},
     "output_type": "display_data"
    },
    {
     "data": {
      "text/plain": [
       "'Di: 00110'"
      ]
     },
     "metadata": {},
     "output_type": "display_data"
    },
    {
     "data": {
      "text/plain": [
       "'So: 0010'"
      ]
     },
     "metadata": {},
     "output_type": "display_data"
    },
    {
     "data": {
      "text/plain": [
       "'Sa: 000'"
      ]
     },
     "metadata": {},
     "output_type": "display_data"
    }
   ],
   "source": [
    "def printTree(node, tree,code = \"\",):\n",
    "    if (node.left == None and node.right == None):\n",
    "        tree[code] = node.char\n",
    "        display(\"%s: %s\" % (node.char, code))\n",
    "    else:\n",
    "        printTree(node.left,tree,code + \"1\")\n",
    "        printTree(node.right,tree,code + \"0\")\n",
    "tree = {}\n",
    "printTree(q.queue[0][1], tree)"
   ]
  },
  {
   "cell_type": "markdown",
   "metadata": {},
   "source": [
    "## 2.2 Gleitkommazahlen und Festkommazahlen"
   ]
  },
  {
   "cell_type": "code",
   "execution_count": null,
   "metadata": {},
   "outputs": [
    {
     "data": {
      "text/plain": [
       "0.1"
      ]
     },
     "metadata": {},
     "output_type": "display_data"
    },
    {
     "data": {
      "text/plain": [
       "0.2"
      ]
     },
     "metadata": {},
     "output_type": "display_data"
    },
    {
     "data": {
      "text/plain": [
       "0.30000000000000004"
      ]
     },
     "metadata": {},
     "output_type": "display_data"
    },
    {
     "data": {
      "text/plain": [
       "0.4"
      ]
     },
     "metadata": {},
     "output_type": "display_data"
    },
    {
     "data": {
      "text/plain": [
       "0.5"
      ]
     },
     "metadata": {},
     "output_type": "display_data"
    },
    {
     "data": {
      "text/plain": [
       "0.6"
      ]
     },
     "metadata": {},
     "output_type": "display_data"
    },
    {
     "data": {
      "text/plain": [
       "0.7"
      ]
     },
     "metadata": {},
     "output_type": "display_data"
    },
    {
     "data": {
      "text/plain": [
       "0.7999999999999999"
      ]
     },
     "metadata": {},
     "output_type": "display_data"
    },
    {
     "data": {
      "text/plain": [
       "0.8999999999999999"
      ]
     },
     "metadata": {},
     "output_type": "display_data"
    },
    {
     "data": {
      "text/plain": [
       "0.9999999999999999"
      ]
     },
     "metadata": {},
     "output_type": "display_data"
    },
    {
     "data": {
      "text/plain": [
       "1.0999999999999999"
      ]
     },
     "metadata": {},
     "output_type": "display_data"
    },
    {
     "data": {
      "text/plain": [
       "1.2"
      ]
     },
     "metadata": {},
     "output_type": "display_data"
    },
    {
     "data": {
      "text/plain": [
       "1.3"
      ]
     },
     "metadata": {},
     "output_type": "display_data"
    },
    {
     "data": {
      "text/plain": [
       "1.4000000000000001"
      ]
     },
     "metadata": {},
     "output_type": "display_data"
    }
   ],
   "source": [
    "import os\n",
    "import time\n",
    "from datetime import datetime\n",
    "from threading import Timer\n",
    "\n",
    "def killfunc():\n",
    "    # wenn diese Funktion aufgerufen wird dann ist das Programm nicht erfolgreich beendet worden\n",
    "    os._exit(0)\n",
    "Timer(0.01, killfunc).start() \n",
    "\n",
    "i = 0.1\n",
    "while i !=1:\n",
    "    display(i)\n",
    "    i += 0.1\n",
    "    "
   ]
  },
  {
   "cell_type": "code",
   "execution_count": null,
   "metadata": {},
   "outputs": [],
   "source": [
    "from decimal import *\n",
    "import os\n",
    "import time\n",
    "from datetime import datetime\n",
    "from threading import Timer\n",
    "\n",
    "\n",
    "\n",
    "def killfunc():\n",
    "    # wenn diese Funktion aufgerufen wird dann ist das Programm nicht erfolgreich beendet worden\n",
    "    os._exit(0)\n",
    "Timer(0.02, killfunc).start()\n",
    "getcontext().prec = 1\n",
    "i = Decimal('0.1')\n",
    "\n",
    "while i !=1:\n",
    "    display(float(i))\n",
    "    i += Decimal('0.1')\n",
    "\n",
    "display(float(i))"
   ]
  },
  {
   "cell_type": "code",
   "execution_count": null,
   "metadata": {},
   "outputs": [],
   "source": [
    "from decimal import *\n",
    "# hiermit wird angegeben auf wie viele Nahckommastellen gerundet wird\n",
    "getcontext().prec = 1\n",
    "x = Decimal('0.1')\n",
    "y = Decimal('0.09')\n",
    "display(float(x+y))\n",
    "\n",
    "getcontext().prec = 2\n",
    "x = Decimal('0.1')\n",
    "y = Decimal('0.09')\n",
    "display(float(x+y))\n"
   ]
  },
  {
   "cell_type": "markdown",
   "metadata": {},
   "source": [
    "## 2.3 Dualzahlen"
   ]
  },
  {
   "cell_type": "code",
   "execution_count": 19,
   "metadata": {},
   "outputs": [
    {
     "data": {
      "application/vnd.jupyter.widget-view+json": {
       "model_id": "1098f6deb5f3452a97cb057748d0e478",
       "version_major": 2,
       "version_minor": 0
      },
      "text/plain": [
       "GridspecLayout(children=(BoundedIntText(value=0, layout=Layout(grid_area='widget001', width='100px'), max=1), …"
      ]
     },
     "metadata": {},
     "output_type": "display_data"
    },
    {
     "data": {
      "application/vnd.jupyter.widget-view+json": {
       "model_id": "097fe2d65c764effbf0ccac084406b5c",
       "version_major": 2,
       "version_minor": 0
      },
      "text/plain": [
       "IntText(value=0, description='Dezimalzahl:')"
      ]
     },
     "metadata": {},
     "output_type": "display_data"
    }
   ],
   "source": [
    "from ipywidgets import GridspecLayout, widgets, Layout\n",
    "import functools\n",
    "grid = GridspecLayout(3, 8, width='63%',justify_content='center',align_content='center',align_items='baseline')\n",
    "\n",
    "\n",
    "def sum_number():\n",
    "    y = 0\n",
    "    for x in range(0,8):\n",
    "        y += int(grid[2,x].value)\n",
    "    sums.value =y\n",
    "    \n",
    "def change_number(change,x):\n",
    "    switcher={0:'128',1:'64', 2:'32',3:'16', 4:'8', 5:'4', 6:'2', 7:'1'}\n",
    "    if grid[0,x].value == 1:\n",
    "        grid[2,x].value=switcher.get(x,'0')\n",
    "        sum_number()\n",
    "    else:\n",
    "        grid[2,x].value='0'\n",
    "        sum_number()\n",
    "        \n",
    "\n",
    "for x in range(0,8):\n",
    "    grid[0,x] = widgets.BoundedIntText(\n",
    "    value=0,\n",
    "    min=0,\n",
    "    max=1,\n",
    "    step=1,\n",
    "    disabled=False,\n",
    "    layout=Layout(width='100px')     \n",
    "    )\n",
    "    grid[0,x].observe(functools.partial(change_number,x=x))  \n",
    "    \n",
    "grid[1,0] = widgets.Label(value=\"$\\hspace{0.5cm}$ $2^7$\",layout=Layout(width='100px'))\n",
    "grid[1,1] = widgets.Label(value=\"$\\hspace{0.5cm}$ $2^6$\",layout=Layout(width='100px'))\n",
    "grid[1,2] = widgets.Label(value=\"$\\hspace{0.5cm}$ $2^5$\",layout=Layout(width='100px'))\n",
    "grid[1,3] = widgets.Label(value=\"$\\hspace{0.5cm}$ $2^4$\",layout=Layout(width='100px'))\n",
    "grid[1,4] = widgets.Label(value=\"$\\hspace{0.5cm}$ $2^3$\",layout=Layout(width='100px'))\n",
    "grid[1,5] = widgets.Label(value=\"$\\hspace{0.5cm}$ $2^2$\",layout=Layout(width='100px'))\n",
    "grid[1,6] = widgets.Label(value=\"$\\hspace{0.5cm}$ $2^1$\",layout=Layout(width='100px'))\n",
    "grid[1,7] = widgets.Label(value=\"$\\hspace{0.5cm}$ $2^0$\",layout=Layout(width='100px'))\n",
    "\n",
    "for x in range(0,8):\n",
    "    grid[2,x] = widgets.IntText(\n",
    "    value=0,\n",
    "    disabled=True,\n",
    "    layout=Layout(width='100px')\n",
    "    )\n",
    "\n",
    "sums = widgets.IntText(\n",
    "    value=0,\n",
    "    description='Dezimalzahl:',\n",
    "    disabled=False\n",
    ")\n",
    "display(grid)\n",
    "display(sums)"
   ]
  },
  {
   "cell_type": "code",
   "execution_count": null,
   "metadata": {},
   "outputs": [],
   "source": [
    "grid = GridspecLayout(4, 8, width='63%',justify_content='center',align_content='center',align_items='baseline')\n"
   ]
  },
  {
   "cell_type": "code",
   "execution_count": null,
   "metadata": {},
   "outputs": [],
   "source": []
  }
 ],
 "metadata": {
  "kernelspec": {
   "display_name": "Python 3",
   "language": "python",
   "name": "python3"
  },
  "language_info": {
   "codemirror_mode": {
    "name": "ipython",
    "version": 3
   },
   "file_extension": ".py",
   "mimetype": "text/x-python",
   "name": "python",
   "nbconvert_exporter": "python",
   "pygments_lexer": "ipython3",
   "version": "3.8.5"
  },
  "widgets": {
   "application/vnd.jupyter.widget-state+json": {
    "state": {
     "08a0af5c74f2411e9f634697e0d6e263": {
      "model_module": "@jupyter-widgets/controls",
      "model_module_version": "1.5.0",
      "model_name": "TextModel",
      "state": {
       "description": "Octal Number",
       "disabled": true,
       "layout": "IPY_MODEL_3d91a7e79c6842d98f72faf5b5ccda44",
       "style": "IPY_MODEL_e5f6e2a1435c4983a2eb72ba9eea0d7e",
       "value": "0o7"
      }
     },
     "0e5883a2a47e42b7adcc0d6b5c2015a3": {
      "model_module": "@jupyter-widgets/controls",
      "model_module_version": "1.5.0",
      "model_name": "BoundedIntTextModel",
      "state": {
       "description": "Decimal Number",
       "layout": "IPY_MODEL_8f8603678d21479f89f9b704683f0838",
       "max": 15,
       "min": -8,
       "style": "IPY_MODEL_7f4764292f3243acba3d39dcb9afa6f5",
       "value": -8
      }
     },
     "0eb02945a2b34c8a8914a6e4107d7754": {
      "model_module": "@jupyter-widgets/controls",
      "model_module_version": "1.5.0",
      "model_name": "TextModel",
      "state": {
       "description": "Hexadecimal Number",
       "disabled": true,
       "layout": "IPY_MODEL_ae108b84e6de449987efd2406d6b3df2",
       "style": "IPY_MODEL_4840ff78734f458995e2a846f2e9bb4e",
       "value": "0x7"
      }
     },
     "1a0d991339b747bf96378877555f0a73": {
      "model_module": "@jupyter-widgets/controls",
      "model_module_version": "1.5.0",
      "model_name": "IntSliderModel",
      "state": {
       "description": "x",
       "layout": "IPY_MODEL_8ea1d4de83394348ac5acfc4bdd68166",
       "max": 48,
       "min": -16,
       "style": "IPY_MODEL_fcbf1e0b281a4621bffa1a6297b7c1a4",
       "value": 15
      }
     },
     "1a80779f1f0d41248bd51ba56453e005": {
      "model_module": "@jupyter-widgets/base",
      "model_module_version": "1.2.0",
      "model_name": "LayoutModel",
      "state": {}
     },
     "21a15c1070a54ebf993781ce7be2e5af": {
      "model_module": "@jupyter-widgets/controls",
      "model_module_version": "1.5.0",
      "model_name": "DescriptionStyleModel",
      "state": {
       "description_width": "150px"
      }
     },
     "3257da3ba2e6488aafacf0e94b8d10a9": {
      "model_module": "@jupyter-widgets/controls",
      "model_module_version": "1.5.0",
      "model_name": "TextModel",
      "state": {
       "description": "Binary Number",
       "disabled": true,
       "layout": "IPY_MODEL_58a016e7256344debd0de8a0434afb9c",
       "style": "IPY_MODEL_21a15c1070a54ebf993781ce7be2e5af",
       "value": "0111"
      }
     },
     "3d91a7e79c6842d98f72faf5b5ccda44": {
      "model_module": "@jupyter-widgets/base",
      "model_module_version": "1.2.0",
      "model_name": "LayoutModel",
      "state": {}
     },
     "4840ff78734f458995e2a846f2e9bb4e": {
      "model_module": "@jupyter-widgets/controls",
      "model_module_version": "1.5.0",
      "model_name": "DescriptionStyleModel",
      "state": {
       "description_width": "150px"
      }
     },
     "48712bbd2d5b4276baf4c5596f1f8371": {
      "model_module": "@jupyter-widgets/controls",
      "model_module_version": "1.5.0",
      "model_name": "TextModel",
      "state": {
       "description": "Hexadecimal Number",
       "disabled": true,
       "layout": "IPY_MODEL_db15cf4858c949449c5ee1e4da00923c",
       "style": "IPY_MODEL_99a942ea9276461e919483e50ecc9817",
       "value": "-0x8"
      }
     },
     "4cd5fdc144ec426cbc06f0ab33b2cb84": {
      "model_module": "@jupyter-widgets/base",
      "model_module_version": "1.2.0",
      "model_name": "LayoutModel",
      "state": {}
     },
     "58a016e7256344debd0de8a0434afb9c": {
      "model_module": "@jupyter-widgets/base",
      "model_module_version": "1.2.0",
      "model_name": "LayoutModel",
      "state": {}
     },
     "61c6338a2c294f04945c12bcbdb494a3": {
      "model_module": "@jupyter-widgets/base",
      "model_module_version": "1.2.0",
      "model_name": "LayoutModel",
      "state": {}
     },
     "7196acd6e8354b53ba6b40884751415f": {
      "model_module": "@jupyter-widgets/controls",
      "model_module_version": "1.5.0",
      "model_name": "SliderStyleModel",
      "state": {
       "description_width": ""
      }
     },
     "757a45629088483d9388e8f794d6637f": {
      "model_module": "@jupyter-widgets/output",
      "model_module_version": "1.0.0",
      "model_name": "OutputModel",
      "state": {
       "layout": "IPY_MODEL_61c6338a2c294f04945c12bcbdb494a3",
       "outputs": [
        {
         "data": {
          "text/plain": "1"
         },
         "metadata": {},
         "output_type": "display_data"
        }
       ]
      }
     },
     "7ba5f89293e34b39b4665d3f66f108da": {
      "model_module": "@jupyter-widgets/controls",
      "model_module_version": "1.5.0",
      "model_name": "SliderStyleModel",
      "state": {
       "description_width": ""
      }
     },
     "7f4764292f3243acba3d39dcb9afa6f5": {
      "model_module": "@jupyter-widgets/controls",
      "model_module_version": "1.5.0",
      "model_name": "DescriptionStyleModel",
      "state": {
       "description_width": "150px"
      }
     },
     "8ea1d4de83394348ac5acfc4bdd68166": {
      "model_module": "@jupyter-widgets/base",
      "model_module_version": "1.2.0",
      "model_name": "LayoutModel",
      "state": {}
     },
     "8f8603678d21479f89f9b704683f0838": {
      "model_module": "@jupyter-widgets/base",
      "model_module_version": "1.2.0",
      "model_name": "LayoutModel",
      "state": {}
     },
     "8fc4d362c29e470e888476aab21454ce": {
      "model_module": "@jupyter-widgets/controls",
      "model_module_version": "1.5.0",
      "model_name": "IntSliderModel",
      "state": {
       "description": "y",
       "layout": "IPY_MODEL_a36934c8da9d43caab74977427ddce25",
       "max": 24,
       "min": -8,
       "style": "IPY_MODEL_7ba5f89293e34b39b4665d3f66f108da",
       "value": 8
      }
     },
     "908b75e375d849f0be13b3658caed00f": {
      "model_module": "@jupyter-widgets/base",
      "model_module_version": "1.2.0",
      "model_name": "LayoutModel",
      "state": {}
     },
     "99a942ea9276461e919483e50ecc9817": {
      "model_module": "@jupyter-widgets/controls",
      "model_module_version": "1.5.0",
      "model_name": "DescriptionStyleModel",
      "state": {
       "description_width": "150px"
      }
     },
     "a146dbbf4cdd4f6fb6c4d26effa96f5c": {
      "model_module": "@jupyter-widgets/controls",
      "model_module_version": "1.5.0",
      "model_name": "IntSliderModel",
      "state": {
       "description": "y",
       "layout": "IPY_MODEL_e951a0c789c541b7a9215a95e9ae8123",
       "max": 24,
       "min": -8,
       "style": "IPY_MODEL_ba023e402fc14b619b4c1411eb8088d5",
       "value": 8
      }
     },
     "a36934c8da9d43caab74977427ddce25": {
      "model_module": "@jupyter-widgets/base",
      "model_module_version": "1.2.0",
      "model_name": "LayoutModel",
      "state": {}
     },
     "ae108b84e6de449987efd2406d6b3df2": {
      "model_module": "@jupyter-widgets/base",
      "model_module_version": "1.2.0",
      "model_name": "LayoutModel",
      "state": {}
     },
     "aef8fc3016e249a2ab6b6da69e0d64fe": {
      "model_module": "@jupyter-widgets/controls",
      "model_module_version": "1.5.0",
      "model_name": "BoundedIntTextModel",
      "state": {
       "description": "Decimal Number",
       "layout": "IPY_MODEL_4cd5fdc144ec426cbc06f0ab33b2cb84",
       "max": 15,
       "min": -8,
       "style": "IPY_MODEL_f2f7f4220cba4f6dafc911aebc1190c7",
       "value": 7
      }
     },
     "ba023e402fc14b619b4c1411eb8088d5": {
      "model_module": "@jupyter-widgets/controls",
      "model_module_version": "1.5.0",
      "model_name": "SliderStyleModel",
      "state": {
       "description_width": ""
      }
     },
     "cfff02d93e554b74af8371ab3a5d271c": {
      "model_module": "@jupyter-widgets/controls",
      "model_module_version": "1.5.0",
      "model_name": "DescriptionStyleModel",
      "state": {
       "description_width": "150px"
      }
     },
     "d012fc628fd3468d9214e2283e277f80": {
      "model_module": "@jupyter-widgets/controls",
      "model_module_version": "1.5.0",
      "model_name": "DescriptionStyleModel",
      "state": {
       "description_width": "150px"
      }
     },
     "d51618052f114e82b573afffd79ddbb4": {
      "model_module": "@jupyter-widgets/controls",
      "model_module_version": "1.5.0",
      "model_name": "TextModel",
      "state": {
       "description": "Binary Number",
       "disabled": true,
       "layout": "IPY_MODEL_e35c99c66f9645ccb9e9a318c7109349",
       "style": "IPY_MODEL_cfff02d93e554b74af8371ab3a5d271c",
       "value": "1000"
      }
     },
     "d5b08288a25f4911b8a0d4b682e1bba3": {
      "model_module": "@jupyter-widgets/controls",
      "model_module_version": "1.5.0",
      "model_name": "VBoxModel",
      "state": {
       "_dom_classes": [
        "widget-interact"
       ],
       "children": [
        "IPY_MODEL_1a0d991339b747bf96378877555f0a73",
        "IPY_MODEL_a146dbbf4cdd4f6fb6c4d26effa96f5c",
        "IPY_MODEL_757a45629088483d9388e8f794d6637f"
       ],
       "layout": "IPY_MODEL_fd5bceba780d42ed81b7da9bc50a6445"
      }
     },
     "d70797df22c94cfdb6a7f9f6b9983501": {
      "model_module": "@jupyter-widgets/base",
      "model_module_version": "1.2.0",
      "model_name": "LayoutModel",
      "state": {}
     },
     "d74ea763bea94eb7a0f1936ab86be261": {
      "model_module": "@jupyter-widgets/base",
      "model_module_version": "1.2.0",
      "model_name": "LayoutModel",
      "state": {}
     },
     "db15cf4858c949449c5ee1e4da00923c": {
      "model_module": "@jupyter-widgets/base",
      "model_module_version": "1.2.0",
      "model_name": "LayoutModel",
      "state": {}
     },
     "e0b6a98e39e94881b37f382ad123d6c3": {
      "model_module": "@jupyter-widgets/controls",
      "model_module_version": "1.5.0",
      "model_name": "VBoxModel",
      "state": {
       "_dom_classes": [
        "widget-interact"
       ],
       "children": [
        "IPY_MODEL_fdf24e483e1f47b294b7a137e63212a4",
        "IPY_MODEL_8fc4d362c29e470e888476aab21454ce",
        "IPY_MODEL_f17c9ef5c80c4c96a9821c9d06c2b83b"
       ],
       "layout": "IPY_MODEL_1a80779f1f0d41248bd51ba56453e005"
      }
     },
     "e35c99c66f9645ccb9e9a318c7109349": {
      "model_module": "@jupyter-widgets/base",
      "model_module_version": "1.2.0",
      "model_name": "LayoutModel",
      "state": {}
     },
     "e5f6e2a1435c4983a2eb72ba9eea0d7e": {
      "model_module": "@jupyter-widgets/controls",
      "model_module_version": "1.5.0",
      "model_name": "DescriptionStyleModel",
      "state": {
       "description_width": "150px"
      }
     },
     "e951a0c789c541b7a9215a95e9ae8123": {
      "model_module": "@jupyter-widgets/base",
      "model_module_version": "1.2.0",
      "model_name": "LayoutModel",
      "state": {}
     },
     "ebfe658c7be54f7db365b782d08236d7": {
      "model_module": "@jupyter-widgets/controls",
      "model_module_version": "1.5.0",
      "model_name": "TextModel",
      "state": {
       "description": "Octal Number",
       "disabled": true,
       "layout": "IPY_MODEL_908b75e375d849f0be13b3658caed00f",
       "style": "IPY_MODEL_d012fc628fd3468d9214e2283e277f80",
       "value": "-0o10"
      }
     },
     "f17c9ef5c80c4c96a9821c9d06c2b83b": {
      "model_module": "@jupyter-widgets/output",
      "model_module_version": "1.0.0",
      "model_name": "OutputModel",
      "state": {
       "layout": "IPY_MODEL_d70797df22c94cfdb6a7f9f6b9983501",
       "outputs": [
        {
         "data": {
          "text/plain": "8"
         },
         "metadata": {},
         "output_type": "display_data"
        }
       ]
      }
     },
     "f2f7f4220cba4f6dafc911aebc1190c7": {
      "model_module": "@jupyter-widgets/controls",
      "model_module_version": "1.5.0",
      "model_name": "DescriptionStyleModel",
      "state": {
       "description_width": "150px"
      }
     },
     "fcbf1e0b281a4621bffa1a6297b7c1a4": {
      "model_module": "@jupyter-widgets/controls",
      "model_module_version": "1.5.0",
      "model_name": "SliderStyleModel",
      "state": {
       "description_width": ""
      }
     },
     "fd5bceba780d42ed81b7da9bc50a6445": {
      "model_module": "@jupyter-widgets/base",
      "model_module_version": "1.2.0",
      "model_name": "LayoutModel",
      "state": {}
     },
     "fdf24e483e1f47b294b7a137e63212a4": {
      "model_module": "@jupyter-widgets/controls",
      "model_module_version": "1.5.0",
      "model_name": "IntSliderModel",
      "state": {
       "description": "x",
       "layout": "IPY_MODEL_d74ea763bea94eb7a0f1936ab86be261",
       "max": 48,
       "min": -16,
       "style": "IPY_MODEL_7196acd6e8354b53ba6b40884751415f",
       "value": 16
      }
     }
    },
    "version_major": 2,
    "version_minor": 0
   }
  }
 },
 "nbformat": 4,
 "nbformat_minor": 4
}
